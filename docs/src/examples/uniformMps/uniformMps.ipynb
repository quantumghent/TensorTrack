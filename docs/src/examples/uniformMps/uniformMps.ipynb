{
 "cells": [
  {
   "cell_type": "code",
   "execution_count": 1,
   "id": "ad36b914-421f-4c19-a45b-66194aa40a79",
   "metadata": {},
   "outputs": [],
   "source": [
    "addpath(genpath('../../../../src'))\n",
    "relTol = 1e-12;"
   ]
  },
  {
   "cell_type": "markdown",
   "id": "d28d1943-c20b-4838-90aa-7763d10e0d47",
   "metadata": {
    "tags": []
   },
   "source": [
    "# Matrix product states in the thermodynamic limit\n",
    "\n",
    "This notebook briefly demonstrates the implementation of uniform matrix product states (MPS) directly in the thermodynamic limit, using the `Tensor` backend. It is based on the first chapter of the [lecture notes on tangent space methods for uniform MPS](https://doi.org/10.21468/SciPostPhysLectNotes.7) by Laurens Vanderstraeten, Jutho Haegeman and Frank Verstraete.\n",
    "\n",
    "The contents of this notebook mirror that of a tutorial given at the [2020 school on Tensor Network based approaches to Quantum Many-Body Systems](http://quantumtensor.pks.mpg.de/index.php/schools/2020-school/) held in Bad Honnef, Germany, which can be found [here](https://github.com/leburgel/BadHonnefTutorial).\n",
    "\n",
    "## 1 Normalization\n",
    "We start by considering a uniform MPS in the thermodynamic limit, which is defined as \n",
    "$$\\left | \\Psi(A) \\right \\rangle = \\sum_{\\{i\\}} \\boldsymbol{v}_L^\\dagger \\left[ \\prod_{m\\in\\mathbb{Z}} A^{i_m} \\right] \\boldsymbol{v}_R \\left | \\{i\\} \\right \\rangle.$$\n",
    "\n",
    "Here, $\\boldsymbol{v}_L^\\dagger$ and $\\boldsymbol{v}_R$ represent boundary vectors at infinity and the $A^i$ are complex matrices of size $D \\times D$ for every entry of the index $i$. This allows for the interpretation of the object $A$ as a three-legged tensor of dimensions $D\\times d \\times D$, where we will refer to $D$ as the bond dimension and $d$ as the physical dimension. With this object and the diagrammatic language of tensor networks, we can represent the state as\n",
    "\n",
    "<center><img src=\"./img/umps.svg\" alt=\"MPSstate\"/></center>\n",
    "\n",
    "Thus, we initialize and represent a uniform MPS state as follows:"
   ]
  },
  {
   "cell_type": "code",
   "execution_count": 2,
   "id": "47f2554d-5c1e-4e7f-a83e-ea876791a3d3",
   "metadata": {},
   "outputs": [
    {
     "name": "stdout",
     "output_type": "stream",
     "text": [
      "Created file '/home/leburgel/git/TensorTrack/docs/src/examples/uniformMps/createMPS.m'.\n"
     ]
    }
   ],
   "source": [
    "%%file createMPS.m\n",
    "function A =  createMPS(D, d)\n",
    "    % Returns a random complex MPS tensor.\n",
    "    %\n",
    "    % Parameters\n",
    "    % ----------\n",
    "    % D : int\n",
    "    %     Bond dimension for MPS.\n",
    "    % d : int\n",
    "    %     Physical dimension for MPS.\n",
    "    %\n",
    "    % Returns\n",
    "    % -------\n",
    "    % A : :class:`Tensor` (D, d, D)\n",
    "    %     MPS tensor with 3 legs,\n",
    "    %     ordered left-bottom-right.\n",
    "    A = Tensor.randnc([D, d, D]);\n",
    "end"
   ]
  },
  {
   "cell_type": "code",
   "execution_count": 3,
   "id": "38426af0-f06c-4d71-baa0-0ba012c5f6db",
   "metadata": {},
   "outputs": [],
   "source": [
    "d = 3;\n",
    "D = 5;\n",
    "A = createMPS(D, d);\n",
    "\n",
    "assert(isequal(A.dims, [D, d, D]), 'Generated MPS tensor has incorrect shape.')\n",
    "blocks = A.matrixblocks();\n",
    "assert(~isreal(blocks{1}), 'MPS tensor should have complex values')"
   ]
  },
  {
   "cell_type": "markdown",
   "id": "9d0f0e08-7a05-4fd6-8c6d-b1107fc2eb3c",
   "metadata": {},
   "source": [
    "One of the central objects in any MPS calculation is the transfer matrix, defined in our case as\n",
    "\n",
    "<center><img src=\"./img/tm.svg\" alt=\"transfer matrix\" style=\"display=block; margin:auto\"/></center>\n",
    "\n",
    "This object corresponds to an operator acting on the space of $D \\times D$ matrices, and can be interpreted as a 4-leg tensor. We will use the following convention for ordering the legs:\n",
    "1. top left\n",
    "2. bottom left\n",
    "3. top right\n",
    "4. bottom right\n",
    "\n",
    "The transfer matrix can be shown to be a completely positive map, such that its leading eigenvalue is a positive number. This eigenvalue should be rescaled to one to ensure a proper normalization of the state in the thermodynamic limit. To perform this normalization, we must therefore find the left and right fixed points $l$ and $r$ which correspond to the largest eigenvalues of the eigenvalue equations\n",
    "\n",
    "<center><img src=\"./img/fixedPoints.svg\" alt=\"fixed points\"/></center>\n",
    "\n",
    "Normalizing the state then means rescaling the MPS tensor $A \\leftarrow A / \\sqrt{\\lambda}$. Additionally, we may fix the normalization of the eigenvectors by requiring that their trace is equal to one:\n",
    "\n",
    "<center><img src=\"./img/traceNorm.svg\" alt=\"norm\"/></center>\n",
    "\n",
    "With these properties in place, the norm of an MPS can be evaluated as\n",
    "\n",
    "<center><img src=\"./img/mpsNorm.svg\" alt=\"norm\"/></center>\n",
    "\n",
    "It can be readily seen that the infinite product of transfer matrices reduces to a projector onto the fixed points, so that the norm reduces to the overlap between the boundary vectors and the fixed points. Since there is no effect of the boundary vectors on the bulk properties of the MPS, we can always choose these such that MPS is properly normalized as $ \\left \\langle \\Psi(\\bar{A})\\middle | \\Psi(A) \\right \\rangle = 1$."
   ]
  },
  {
   "cell_type": "code",
   "execution_count": 4,
   "id": "6f0d407d-3dab-40ff-9116-0fd4239bc894",
   "metadata": {
    "tags": []
   },
   "outputs": [
    {
     "name": "stdout",
     "output_type": "stream",
     "text": [
      "Created file '/home/leburgel/git/TensorTrack/docs/src/examples/uniformMps/createTransfermatrix.m'.\n"
     ]
    }
   ],
   "source": [
    "%%file createTransfermatrix.m\n",
    "function E = createTransfermatrix(A)\n",
    "    % Form the transfermatrix of an MPS.\n",
    "    %\n",
    "    % Parameters\n",
    "    % ----------\n",
    "    % A : :class:`Tensor` (D, d, D)\n",
    "    %     MPS tensor with 3 legs,\n",
    "    %     ordered left-bottom-right.\n",
    "\n",
    "    % Returns\n",
    "    % -------\n",
    "    % E : :class:`Tensor` (D, D, D, D)\n",
    "    %     Transfer matrix with 4 legs,\n",
    "    %     ordered topLeft-bottomLeft-topRight-bottomRight.\n",
    "    E = contract(A, [-1, 1, -3], conj(A), [-2, 1, -4], 'Rank', [2, 2]);\n",
    "end"
   ]
  },
  {
   "cell_type": "code",
   "execution_count": 5,
   "id": "94c3d14e-c523-48ef-b5f2-daf47f3c6445",
   "metadata": {},
   "outputs": [
    {
     "name": "stdout",
     "output_type": "stream",
     "text": [
      "Created file '/home/leburgel/git/TensorTrack/docs/src/examples/uniformMps/normalizeMPS.m'.\n"
     ]
    }
   ],
   "source": [
    "%%file normalizeMPS.m\n",
    "function Anew = normalizeMPS(A)\n",
    "    % Normalize an MPS tensor.\n",
    "    %\n",
    "    % Parameters\n",
    "    % ----------\n",
    "    % A : :class:`Tensor` (D, d, D)\n",
    "    %     MPS tensor with 3 legs,\n",
    "    %     ordered left-bottom-right.\n",
    "    %\n",
    "    % Returns\n",
    "    % -------\n",
    "    % Anew : :class:`Tensor` (D, d, D)\n",
    "    %     MPS tensor with 3 legs,\n",
    "    %     ordered left-bottom-right.\n",
    "    %\n",
    "    % Complexity\n",
    "    % ----------\n",
    "    % O(D^6) algorithm,\n",
    "    %     diagonalizing (D^2, D^2) matrix.\n",
    "    \n",
    "    % create transfer matrix and reshape to appropriate tensor map acting on right fixed point\n",
    "    E = createTransfermatrix(A);\n",
    "    E = permute(E, [1:E.rank(1), flip(1:E.rank(2)) + E.rank(1)]);\n",
    "    \n",
    "    % determine eigenvalue and rescale MPS tensor accordingly\n",
    "    norm = eigsolve(E);\n",
    "    Anew = A / sqrt(norm);\n",
    "end"
   ]
  },
  {
   "cell_type": "code",
   "execution_count": 6,
   "id": "260176be-4963-4e1a-820d-c18c857fef3f",
   "metadata": {},
   "outputs": [
    {
     "name": "stdout",
     "output_type": "stream",
     "text": [
      "Created file '/home/leburgel/git/TensorTrack/docs/src/examples/uniformMps/leftFixedPoint.m'.\n"
     ]
    }
   ],
   "source": [
    "%%file leftFixedPoint.m\n",
    "function l = leftFixedPoint(A)\n",
    "    % Find left fixed point.\n",
    "    %\n",
    "    % Parameters\n",
    "    % ----------\n",
    "    % A : :class:`Tensor` (D, d, D)\n",
    "    %     MPS tensor with 3 legs,\n",
    "    %     ordered left-bottom-right.\n",
    "    %\n",
    "    % Returns\n",
    "    % -------\n",
    "    % l : :class:`Tensor` (D, D)\n",
    "    %     left fixed point with 2 legs,\n",
    "    %     ordered bottom-top.\n",
    "    %\n",
    "    % Complexity\n",
    "    % ----------\n",
    "    % O(D^6) algorithm,\n",
    "    %     diagonalizing (D^2, D^2) matrix.\n",
    "    \n",
    "    % initialize transfer matrix and reshape to appropriate tensor map acting on left fixed point\n",
    "    E = createTransfermatrix(A);\n",
    "    E = permute(E, [flip(1:E.rank(2)) + E.rank(1), 1:E.rank(1)]);\n",
    "    \n",
    "    % find fixed point\n",
    "    [l, ~] = eigsolve(E);\n",
    "    \n",
    "    % interpret as matrix\n",
    "    l = repartition(l, [1, 1]);\n",
    "    \n",
    "    % make left fixed point hermitian and positive semidefinite explicitly\n",
    "    l = l * trace(l) / abs(trace(l)); % remove possible phase, actually forgot why I had to do this\n",
    "    l = (l + l') / 2; % force hermitian\n",
    "    l = l * sign(trace(l)); % force positive semidefinite\n",
    "end"
   ]
  },
  {
   "cell_type": "code",
   "execution_count": 7,
   "id": "78f3a074-7c39-45c4-974d-326af7a1a65b",
   "metadata": {},
   "outputs": [
    {
     "name": "stdout",
     "output_type": "stream",
     "text": [
      "Created file '/home/leburgel/git/TensorTrack/docs/src/examples/uniformMps/rightFixedPoint.m'.\n"
     ]
    }
   ],
   "source": [
    "%%file rightFixedPoint.m\n",
    "function r = rightFixedPoint(A)\n",
    "    % Find right fixed point.\n",
    "    %\n",
    "    % Parameters\n",
    "    % ----------\n",
    "    % A : :class:`Tensor` (D, d, D)\n",
    "    %     MPS tensor with 3 legs,\n",
    "    %     ordered left-bottom-right.\n",
    "    %\n",
    "    % Returns\n",
    "    % -------\n",
    "    % r : :class:`Tensor` (D, D)\n",
    "    %     left fixed point with 2 legs,\n",
    "    %     ordered top-bottom.\n",
    "    %\n",
    "    % Complexity\n",
    "    % ----------\n",
    "    % O(D^6) algorithm,\n",
    "    %     diagonalizing (D^2, D^2) matrix.\n",
    "   \n",
    "    % initialize transfer matrix and reshape to appropriate tensor map acting on right fixed point\n",
    "    E = createTransfermatrix(A);\n",
    "    E = permute(E, [1:E.rank(1), flip(1:E.rank(2)) + E.rank(1)]);\n",
    "    \n",
    "    % find fixed point\n",
    "    [r, ~] = eigsolve(E);\n",
    "    \n",
    "    % interpret to matrix\n",
    "    r = repartition(r, [1, 1]);\n",
    "    \n",
    "    % make right fixed point hermitian and positive semidefinite explicitly\n",
    "    r = r * trace(r) / abs(trace(r)); % remove possible phase, actually forgot why I had to do this\n",
    "    r = (r + r') / 2; % force hermitian\n",
    "    r = r * sign(trace(r)); % force positive semidefinite\n",
    "end"
   ]
  },
  {
   "cell_type": "code",
   "execution_count": 8,
   "id": "61ccca0f-75de-44ad-9ac7-371a897ed9f2",
   "metadata": {},
   "outputs": [
    {
     "name": "stdout",
     "output_type": "stream",
     "text": [
      "Created file '/home/leburgel/git/TensorTrack/docs/src/examples/uniformMps/fixedPoints.m'.\n"
     ]
    }
   ],
   "source": [
    "%%file fixedPoints.m\n",
    "function [l, r] = fixedPoints(A)\n",
    "    % Find normalized fixed points.\n",
    "    %\n",
    "    % Parameters\n",
    "    % ----------\n",
    "    % A : :class:`Tensor` (D, d, D)\n",
    "    %     MPS tensor with 3 legs,\n",
    "    %     ordered left-bottom-right.\n",
    "    %\n",
    "    % Returns\n",
    "    % -------\n",
    "    % l : :class:`Tensor` (D, D)\n",
    "    %     left fixed point with 2 legs,\n",
    "    %     ordered bottom-top.\n",
    "    % r : :class:`Tensor` (D, D)\n",
    "    %     right fixed point with 2 legs,\n",
    "    %     ordered top-bottom.\n",
    "    %\n",
    "    % Complexity\n",
    "    % ----------\n",
    "    % O(D^6) algorithm,\n",
    "    %     diagonalizing (D^2, D^2) matrix\n",
    "\n",
    "    % find fixed points\n",
    "    l = leftFixedPoint(A);\n",
    "    r = rightFixedPoint(A);\n",
    "    \n",
    "    % calculate trace and normalize\n",
    "    l = l / trace(l * r);\n",
    "end"
   ]
  },
  {
   "cell_type": "code",
   "execution_count": 9,
   "id": "21c35e9f-e001-4e82-8078-a3adcbeb9f69",
   "metadata": {},
   "outputs": [],
   "source": [
    "A = normalizeMPS(A);\n",
    "[l, r] = fixedPoints(A);\n",
    "\n",
    "assert(isapprox(l, l', 'RelTol', relTol), 'left fixed point should be hermitian!')\n",
    "assert(isapprox(r, r', 'RelTol', relTol), 'right fixed point should be hermitian!')\n",
    "\n",
    "assert(isapprox(l, contract(A, [1, 2, -2], l, [3, 1], conj(A), [3, 2, -1]), 'RelTol', relTol), 'l should be a left fixed point!')\n",
    "assert(isapprox(r, contract(A, [-1, 2, 1], r, [1, 3], conj(A), [-2, 2, 3]), 'RelTol', relTol), 'r should be a right fixed point!')\n",
    "assert(abs(trace(l * r) - 1) < relTol, 'Left and right fixed points should be trace normalized!') % TODO: fix once traces are a thing"
   ]
  },
  {
   "cell_type": "markdown",
   "id": "ebea5103-1f7c-479b-9e7d-371d0d648589",
   "metadata": {},
   "source": [
    "## 2 Gauge freedom\n",
    "While a given MPS tensor $A$ corresponds to a unique state $\\left | \\Psi(A) \\right \\rangle$, the converse is not true, as different tensors may give rise to the same state. This is easily seen by noting that the gauge transform\n",
    "\n",
    "<center><img src=\"img/gaugeTransform.svg\" alt=\"gauge transform\"></center>\n",
    "\n",
    "leaves the physical state invariant. We may use this freedom in parametrization to impose canonical forms on the MPS tensor $A$.\n",
    "\n",
    "We start by considering the *left-orthonormal form* of an MPS, which is defined in terms of a tensor $A_L$ that satisfies the condition\n",
    "\n",
    "<center><img src=\"img/leftOrth.svg\" alt=\"left orthonormal\"></center>\n",
    "\n",
    "We can find the gauge transform $L$ that brings $A$ into this form\n",
    "\n",
    "<center><img src=\"img/leftGauge.svg\" alt=\"left gauge\"></center>\n",
    "\n",
    "by decomposing the fixed point $l$ as $l = L^\\dagger L$, such that\n",
    "\n",
    "<center><img src=\"img/leftOrth2.svg\" alt=\"left orthonormal2\"></center>\n",
    "\n",
    "Note that this gauge choice still leaves room for unitary gauge transformations\n",
    "\n",
    "<center><img src=\"img/unitaryGauge.svg\" alt=\"unitary gauge\"></center>\n",
    "\n",
    "which can be used to bring the right fixed point $r$ into diagonal form. Similarly, we can find the gauge transform that brings $A$ into *right-orthonormal form*\n",
    "\n",
    "<center><img src=\"img/rightGauge.svg\" alt=\"right gauge\"></center>\n",
    "\n",
    "such that\n",
    "\n",
    "<center><img src=\"img/rightOrth.svg\" alt=\"right gauge\"></center>\n",
    "\n",
    "and the left fixed point $l$ is diagonal. The routines that bring a given MPS into canonical form by decomposing the corresponding transfer matrix fixed points can be defined as follows:"
   ]
  },
  {
   "cell_type": "code",
   "execution_count": 10,
   "id": "f33dcb84-4d39-4384-9718-2635e539dd9b",
   "metadata": {},
   "outputs": [
    {
     "name": "stdout",
     "output_type": "stream",
     "text": [
      "Created file '/home/leburgel/git/TensorTrack/docs/src/examples/uniformMps/leftOrthonormalize.m'.\n"
     ]
    }
   ],
   "source": [
    "%%file leftOrthonormalize.m\n",
    "function [L, Al] =  leftOrthonormalize(A, l)\n",
    "    % Transform A to left-orthonormal gauge.\n",
    "    %\n",
    "    % Parameters\n",
    "    % ----------\n",
    "    % A : :class:`Tensor` (D, d, D)\n",
    "    %     MPS tensor with 3 legs,\n",
    "    %     ordered left-bottom-right.\n",
    "    %\n",
    "    % Returns\n",
    "    % -------\n",
    "    % L : :class:`Tensor` (D, D)\n",
    "    %     left gauge with 2 legs,\n",
    "    %     ordered left-right.\n",
    "    % Al : :class:`Tensor` (D, d, D)\n",
    "    %     MPS tensor with 3 legs,\n",
    "    %     ordered left-bottom-right,\n",
    "    %     left orthonormal\n",
    "    %\n",
    "    % Complexity\n",
    "    % ----------\n",
    "    % O(D^6) algorithm,\n",
    "    %     diagonalizing (D^2, D^2) matrix\n",
    "    \n",
    "    % find left fixed point\n",
    "    if nargin < 2 || isempty(l)\n",
    "        l = leftFixedPoint(A);\n",
    "    end\n",
    "    \n",
    "    % decompose l = L * L\n",
    "    L = sqrtm(l);\n",
    "    \n",
    "    % apply gauge L to A\n",
    "    Al = contract(L, [-1, 1], A, [1, -2, 2], inv(L), [2, -3]);\n",
    "end"
   ]
  },
  {
   "cell_type": "code",
   "execution_count": 11,
   "id": "259522be-dc9e-4964-b302-676a3b210efd",
   "metadata": {},
   "outputs": [
    {
     "name": "stdout",
     "output_type": "stream",
     "text": [
      "Created file '/home/leburgel/git/TensorTrack/docs/src/examples/uniformMps/rightOrthonormalize.m'.\n"
     ]
    }
   ],
   "source": [
    "%%file rightOrthonormalize.m\n",
    "function [R, Ar] = rightOrthonormalize(A, r)\n",
    "    % Transform A to right-orthonormal gauge.\n",
    "    %\n",
    "    % Parameters\n",
    "    % ----------\n",
    "    % A : :class:`Tensor` (D, d, D)\n",
    "    %     MPS tensor with 3 legs,\n",
    "    %     ordered left-bottom-right.\n",
    "    %\n",
    "    % Returns\n",
    "    % -------\n",
    "    % R : :class:`Tensor` (D, D)\n",
    "    %     right gauge with 2 legs,\n",
    "    %     ordered left-right.\n",
    "    % Ar : :class:`Tensor` (D, d, D)\n",
    "    %     MPS tensor with 3 legs,\n",
    "    %     ordered left-bottom-right,\n",
    "    %     left orthonormal\n",
    "    %\n",
    "    % Complexity\n",
    "    % ----------\n",
    "    % O(D^6) algorithm,\n",
    "    %     diagonalizing (D^2, D^2) dmatrix\n",
    "    \n",
    "    % find right fixed point\n",
    "    if nargin < 2 || isempty(r)\n",
    "        r = rightFixedPoint(A);\n",
    "    end\n",
    "    \n",
    "    % decompose r = R * R\n",
    "    R = sqrtm(r);\n",
    "    \n",
    "    % apply gauge R to A\n",
    "    Ar = contract(inv(R), [-1, 1], A, [1, -2, 2], R, [2, -3]);\n",
    "end"
   ]
  },
  {
   "cell_type": "code",
   "execution_count": 12,
   "id": "678f4581-dba0-4476-a811-2715effef870",
   "metadata": {},
   "outputs": [],
   "source": [
    "[L, Al] = leftOrthonormalize(A, l);\n",
    "[R, Ar] = rightOrthonormalize(A, r);\n",
    "\n",
    "assert(isapprox(R * R', r, 'RelTol', relTol), 'Right gauge doesn\"t square to r')\n",
    "assert(isapprox(L' * L, l, 'RelTol', relTol), 'Left gauge doesn\"t sqaure to l')\n",
    "assert(isapprox(contract(Ar, [-1, 1, 2], conj(Ar), [-2, 1, 2]), R.eye(R.codomain, R.domain), 'RelTol', 1e-10), 'Ar not in right-orthonormal form')\n",
    "assert(isapprox(contract(Al, [1, 2, -2], conj(Al), [1, 2, -1]), L.eye(L.codomain, L.domain), 'RelTol', 1e-10), 'Al not in left-orthonormal form')"
   ]
  },
  {
   "cell_type": "markdown",
   "id": "edf5f45f-d689-410c-8722-fad54892f76f",
   "metadata": {},
   "source": [
    "Finally, we can define a *mixed gauge* for the uniform MPS by choosing one site, the 'center site', and bringing all tensors to the left of it in the left-orthonormal form and all the tensors to the right of it in the right-orthonormal form. Defining a new tensor $A_C$ on the center site, we obtain the form\n",
    "\n",
    "<center><img src=\"img/mixedGauge.svg\" alt=\"right gauge\"></center>\n",
    "\n",
    "By contrast, the original representation using the same tensor at every site is commonly referred to as the *uniform gauge*. The mixed gauge has an intuitive interpretation. Defining $C = LR$, this tensor then implements the gauge transform that maps the left-orthonormal tensor to the right-orthonormal one, thereby defining the center-site tensor $A_C$:\n",
    "\n",
    "<center><img src=\"img/mixedGauge2.svg\" alt=\"right gauge\"></center>\n",
    "\n",
    "This relation is called the mixed gauge condition and allows us to freely move the center tensor $A_C$ through the MPS, linking the left- and right orthonormal tensors.\n",
    "\n",
    "Finally we may bring $C$ into diagonal form by performing a singular value decomposition $C = USV^\\dagger$ and absorbing $U$ and $V^\\dagger$ into the definition of $A_L$ and $A_R$ using the residual unitary gauge freedom\n",
    "\n",
    "<center><img src=\"img/diagC.svg\" alt=\"mixed gauge3\"></center>\n",
    "\n",
    "The mixed canonical form with a diagonal $C$ now allows to straightforwardly write down a Schmidt decomposition of the state across an arbitrary bond in the chain\n",
    "\n",
    "$$ \\left | \\Psi(A) \\right \\rangle = \\sum_{i=1}^{D} C_i \\left | \\Psi^i_L(A_L) \\right \\rangle \\otimes \\left | \\Psi^i_R(A_R) \\right \\rangle,$$\n",
    "\n",
    "where the states $\\left | \\Psi^i_L(A_L) \\right \\rangle$ and $\\left | \\Psi^i_R(A_R) \\right \\rangle$ are orthogonal states on half the lattice. The diagonal elements $C_i$ are exactly the Schmidt numbers of any bipartition of the MPS, and as such determine its bipartite entanglement entropy\n",
    "\n",
    "$$ S = -\\sum_i C_i^2 \\log(C_i^2) .$$"
   ]
  },
  {
   "cell_type": "code",
   "execution_count": 13,
   "id": "a1e6f023-1e19-4374-8fec-d707a137571b",
   "metadata": {},
   "outputs": [
    {
     "name": "stdout",
     "output_type": "stream",
     "text": [
      "Created file '/home/leburgel/git/TensorTrack/docs/src/examples/uniformMps/mixedCanonical.m'.\n"
     ]
    }
   ],
   "source": [
    "%%file mixedCanonical.m\n",
    "function [Al, Ar, C, Ac] = mixedCanonical(A)\n",
    "    % Bring MPS tensor into mixed gauge, such that -Al-C- = -C-Ar- = Ac.\n",
    "    %\n",
    "    % Parameters\n",
    "    % ----------\n",
    "    % A : :class:`Tensor` (D, d, D)\n",
    "    %     MPS tensor with 3 legs,\n",
    "    %     ordered left-bottom-right.\n",
    "    %\n",
    "    % Returns\n",
    "    % -------\n",
    "    % Al : :class:`Tensor` (D, d, D)\n",
    "    %     MPS tensor with 3 legs,\n",
    "    %     ordered left-bottom-right,\n",
    "    %     left orthonormal.\n",
    "    % Ac : :class:`Tensor` (D, d, D)\n",
    "    %     MPS tensor with 3 legs,\n",
    "    %     ordered left-bottom-right,\n",
    "    %     center gauge.\n",
    "    % Ar : :class:`Tensor` (D, d, D)\n",
    "    %     MPS tensor with 3 legs,\n",
    "    %     ordered left-bottom-right,\n",
    "    %     right orthonormal.\n",
    "    % C : :class:`Tensor` (D, D)\n",
    "    %     Center gauge with 2 legs,\n",
    "    %     ordered left-right,\n",
    "    %     diagonal.\n",
    "    %\n",
    "    % Complexity\n",
    "    % ----------\n",
    "    % O(D^6) algorithm,\n",
    "    %     diagonalization of (D^2, D^2) matrix\n",
    "    \n",
    "    % Compute left and right orthonormal forms\n",
    "    [L, Al] = leftOrthonormalize(A);\n",
    "    [R, Ar] = rightOrthonormalize(A);\n",
    "    \n",
    "    % center matrix C is matrix multiplication of L and R\n",
    "    C = L * R;\n",
    "    \n",
    "    % singular value decomposition to diagonalize C\n",
    "    [U, S, V] = tsvd(C, 1, 2);\n",
    "\n",
    "    % absorb corresponding unitaries in Al and Ar\n",
    "    Al = contract(U', [-1, 1], Al, [1, -2, 2], U, [2, -3]);\n",
    "    Ar = contract(V, [-1, 1], Ar, [1, -2, 2], V', [2, -3]);\n",
    "\n",
    "    % normalize center matrix\n",
    "    C = S / norm(S);\n",
    "\n",
    "    % compute center MPS tensor\n",
    "    Ac = contract(Al, [-1, -2, 1], C, [1, -3]);\n",
    "end"
   ]
  },
  {
   "cell_type": "code",
   "execution_count": 14,
   "id": "e322559f-a4d5-41ba-8239-261d798f1d01",
   "metadata": {},
   "outputs": [
    {
     "name": "stdout",
     "output_type": "stream",
     "text": [
      "Created file '/home/leburgel/git/TensorTrack/docs/src/examples/uniformMps/entanglementSpectrum.m'.\n"
     ]
    }
   ],
   "source": [
    "%%file entanglementSpectrum.m\n",
    "function [S, entropy] = entanglementSpectrum(A)\n",
    "    % Calculate the entanglement spectrum of an MPS.\n",
    "\n",
    "    % Parameters\n",
    "    % ----------\n",
    "    % A : :class:`Tensor` (D, d, D)\n",
    "    %     MPS tensor with 3 legs,\n",
    "    %     ordered left-bottom-right.\n",
    "    %\n",
    "    % Returns\n",
    "    % -------\n",
    "    % S : double (D, 1)\n",
    "    %     Singular values of center matrix,\n",
    "    %     representing the entanglement spectrum\n",
    "    % entropy : double\n",
    "    %     Entanglement entropy across a leg.\n",
    "    \n",
    "    % go to mixed gauge\n",
    "    [~, ~, C, ~] = mixedCanonical(A);\n",
    "\n",
    "    % calculate entropy\n",
    "    S = diag(double(C));\n",
    "    entropy = -sum(S.^2 .* log(S.^2));\n",
    "end"
   ]
  },
  {
   "cell_type": "code",
   "execution_count": 15,
   "id": "e3321c09-63a9-42b7-b207-efb329f1dc05",
   "metadata": {},
   "outputs": [],
   "source": [
    "% check that gauging is still correct\n",
    "[Al, Ar, C, Ac] = mixedCanonical(A);\n",
    "[S, entropy] = entanglementSpectrum(A);\n",
    "\n",
    "assert(isapprox(contract(Ar, [-1, 1, 2], conj(Ar), [-2, 1, 2]), C.eye(C.codomain, C.domain), 'RelTol', 1e-10), 'Ar not in right-orthonormal form')\n",
    "assert(isapprox(contract(Al, [1, 2, -2], conj(Al), [1, 2, -1]), C.eye(C.codomain, C.domain), 'RelTol', 1e-10), 'Al not in left-orthonormal form')\n",
    "LHS = contract(Al, [-1, -2, 1], C, [1, -3]);\n",
    "RHS = contract(C, [-1, 1], Ar, [1, -2, -3]);\n",
    "assert(isapprox(LHS, RHS, 'RelTol', relTol) && isapprox(RHS, Ac, 'RelTol', relTol), 'Mixed gauge condition not satisfied!')"
   ]
  },
  {
   "cell_type": "markdown",
   "id": "a049a0e6-f651-4f56-a62a-4653e7a1aaf5",
   "metadata": {},
   "source": [
    "## 3 Truncation of a uniform MPS\n",
    "\n",
    "The mixed canonical form also enables efficient truncatation an MPS. The sum in the above Schmidt decomposition can be truncated, giving rise to a new MPS that has a reduced bond dimension for that bond. This truncation is optimal in the sense that the norm between the original and the truncated MPS is maximized. To arrive at a translation invariant truncated MPS, we can truncate the columns of the absorbed isometries $U$ and $V^\\dagger$ correspondingly, thereby transforming *every* tensor $A_L$ or $A_R$. The truncated MPS in the mixed gauge is then given by\n",
    "\n",
    "<center><img src=\"img/truncMPS.svg\" alt=\"truncated MPS\"></center>\n",
    "\n",
    "We note that the resulting state based on this local truncation is not guaranteed to correspond to the MPS with a lower bond dimension that is globally optimal. This would require a variational optimization of the cost function.\n",
    "\n",
    "$$ \\left | \\left | ~\\left | \\Psi(A) \\right \\rangle - \\left | \\Psi(\\tilde{A}) \\right \\rangle ~\\right | \\right |^2.$$"
   ]
  },
  {
   "cell_type": "code",
   "execution_count": 16,
   "id": "2a4b977f-32e0-411c-9297-5b0e16738e7d",
   "metadata": {
    "tags": []
   },
   "outputs": [
    {
     "name": "stdout",
     "output_type": "stream",
     "text": [
      "Created file '/home/leburgel/git/TensorTrack/docs/src/examples/uniformMps/truncateMPS.m'.\n"
     ]
    }
   ],
   "source": [
    "%%file truncateMPS.m\n",
    "function [AlTilde, ArTilde, CTilde, AcTilde] = truncateMPS(A, Dtrunc)\n",
    "    % Truncate an MPS to a lower bond dimension.\n",
    "    %\n",
    "    % Parameters\n",
    "    % ----------\n",
    "    % A : :class:`Tensor` (D, d, D)\n",
    "    %     MPS tensor with 3 legs,\n",
    "    %     ordered left-bottom-right.\n",
    "    % Dtrunc : int\n",
    "    %     lower bond dimension\n",
    "    %\n",
    "    % Returns\n",
    "    % -------\n",
    "    % AlTilde : :class:`Tensor` (Dtrunc, d, Dtrunc)\n",
    "    %     MPS tensor with 3 legs,\n",
    "    %     ordered left-bottom-right,\n",
    "    %     left orthonormal.\n",
    "    % AcTilde : :class:`Tensor` (Dtrunc, d, Dtrunc)\n",
    "    %     MPS tensor with 3 legs,\n",
    "    %     ordered left-bottom-right,\n",
    "    %     center gauge.\n",
    "    % ArTilde : :class:`Tensor` (Dtrunc, d, Dtrunc)\n",
    "    %     MPS tensor with 3 legs,\n",
    "    %     ordered left-bottom-right,\n",
    "    %     right orthonormal.\n",
    "    % CTilde : :class:`Tensor` (Dtrunc, Dtrunc)\n",
    "    %     Center gauge with 2 legs,\n",
    "    %     ordered left-right,\n",
    "    %     diagonal.\n",
    "    \n",
    "    [Al, Ar, C, Ac] = mixedCanonical(A);\n",
    "    \n",
    "    % perform SVD with truncation option\n",
    "    [U, S, V] = tsvd(C, 1, 2, 'TruncDim', Dtrunc);\n",
    "    \n",
    "    % reabsorb unitaries\n",
    "    AlTilde = contract(U', [-1, 1], Al, [1, -2, 2], U, [2, -3]);\n",
    "    ArTilde = contract(V, [-1, 1], Ar, [1, -2, 2], V', [2, -3]);\n",
    "    \n",
    "    % normalize center matrix\n",
    "    CTilde = S / norm(S);\n",
    "\n",
    "    % compute center MPS tensor\n",
    "    AcTilde = contract(AlTilde, [-1, -2, 1], CTilde, [1, -3]);\n",
    "end"
   ]
  },
  {
   "cell_type": "code",
   "execution_count": 17,
   "id": "8431e495-95f0-4619-b1c3-3b2c6289ab7f",
   "metadata": {},
   "outputs": [],
   "source": [
    "Dtrunc = 3;\n",
    "[AlTilde, ArTilde, CTilde, AcTilde] = truncateMPS(A, Dtrunc);\n",
    "assert(AlTilde.dims(1) == Dtrunc && AlTilde.dims(3) == Dtrunc, 'Something went wrong in truncating the MPS')"
   ]
  },
  {
   "cell_type": "markdown",
   "id": "fe3eb8e0-870a-4bd8-8f83-a4577d3ed42b",
   "metadata": {
    "tags": []
   },
   "source": [
    "## 4 Algorithms for finding canonical forms\n",
    "The success of using MPS for describing physical systems stems from the fact that they provide efficient approximations to a large class of physically relevant states. In one dimension, they have been shown to approximate low-energy states of gapped systems arbitrarily well at only a polynomial cost in the bond dimension $D$. This means that in principle we can push MPS results for these systems to arbitrary precision as long as we increase the bond dimension enough. However, increasing the bond dimension comes at a numerical cost, as the complexity of any MPS algorithm scales with $D$. As opposed to the naive routines given above, it is possible to ensure that the complexity of all MPS algorithms scales as $O(D^3)$, so long as we are a bit careful when implementing them.\n",
    "\n",
    "As a first example, we can refrain from explicitly contructing the matrices that are used in the eigenvalue problems, and instead pass a function that implements the action of the corresponding operator on a vector to the eigenvalue solver. We demonstrate this for the problem of normalizing an MPS, where instead of explicitly constructing the transfer matrix we now define a function handle which implements its action on the right and left fixed points using an optimal contraction sequence:"
   ]
  },
  {
   "cell_type": "code",
   "execution_count": 18,
   "id": "68787943-9fdc-424d-b27b-b4cf1f805297",
   "metadata": {},
   "outputs": [
    {
     "name": "stdout",
     "output_type": "stream",
     "text": [
      "Created file '/home/leburgel/git/TensorTrack/docs/src/examples/uniformMps/normalizeMPS.m'.\n"
     ]
    }
   ],
   "source": [
    "%%file normalizeMPS.m\n",
    "function Anew = normalizeMPS(A)\n",
    "    % Normalize an MPS tensor.\n",
    "    %\n",
    "    % Parameters\n",
    "    % ----------\n",
    "    % A : :class:`Tensor` (D, d, D)\n",
    "    %     MPS tensor with 3 legs,\n",
    "    %     ordered left-bottom-right.\n",
    "    %\n",
    "    % Returns\n",
    "    % -------\n",
    "    % Anew : :class:`Tensor` (D, d, D)\n",
    "    %     MPS tensor with 3 legs,\n",
    "    %     ordered left-bottom-right.\n",
    "    %\n",
    "    % Complexity\n",
    "    % ----------\n",
    "    % O(D^3) algorithm,\n",
    "    %     D^3 contraction for transfer matrix handle.\n",
    "    \n",
    "    % define handle for transfer matrix acting on right vector\n",
    "    handleERight = @(v) contract(A, [-1, 2, 1], conj(A), [-2, 2, 3], v, [1, 3], 'Rank', [1, 1]);\n",
    "    \n",
    "    % start from random initial guess for fixed point\n",
    "    r0 = A.randnc(A.dims([3, 3]), 'Rank', [1, 1]);\n",
    "    \n",
    "    % calculate eigenvalue\n",
    "    lam = eigsolve(handleERight, r0);\n",
    "\n",
    "    Anew = A / sqrt(lam);\n",
    "end"
   ]
  },
  {
   "cell_type": "code",
   "execution_count": 19,
   "id": "1293165e-6cde-4b7e-8f03-f2e6563a5c1a",
   "metadata": {},
   "outputs": [
    {
     "name": "stdout",
     "output_type": "stream",
     "text": [
      "Created file '/home/leburgel/git/TensorTrack/docs/src/examples/uniformMps/leftFixedPoint.m'.\n"
     ]
    }
   ],
   "source": [
    "%%file leftFixedPoint.m\n",
    "function l = leftFixedPoint(A)\n",
    "    % Find left fixed point.\n",
    "    %\n",
    "    % Parameters\n",
    "    % ----------\n",
    "    % A : :class:`Tensor` (D, d, D)\n",
    "    %     MPS tensor with 3 legs,\n",
    "    %     ordered left-bottom-right.\n",
    "    %\n",
    "    % Returns\n",
    "    % -------\n",
    "    % l : :class:`Tensor` (D, D)\n",
    "    %     left fixed point with 2 legs,\n",
    "    %     ordered bottom-top.\n",
    "    %\n",
    "    % Complexity\n",
    "    % ----------\n",
    "    % O(D^3) algorithm,\n",
    "    %     D^3 contraction for transfer matrix handle.\n",
    "\n",
    "    % define handle for transfer matrix acting on left vector\n",
    "    handleELeft = @(v) contract(A, [1, 2, -2], conj(A), [3, 2, -1], v, [3, 1], 'Rank', [1, 1]);\n",
    "    \n",
    "    % start from random initial guess for fixed point\n",
    "    l0 = A.randnc(A.dims([1, 1]), 'Rank', [1, 1]);\n",
    "    \n",
    "    % calculate fixed point\n",
    "    [l, ~] = eigsolve(handleELeft, l0);\n",
    "    \n",
    "    % make left fixed point hermitian and positive semidefinite explicitly\n",
    "    l = l * trace(l) / abs(trace(l)); % remove possible phase, actually forgot why I had to do this\n",
    "    l = (l + l') / 2; % force hermitian\n",
    "    l = l * sign(trace(l)); % force positive semidefinite\n",
    "end"
   ]
  },
  {
   "cell_type": "code",
   "execution_count": 20,
   "id": "f0a19278-4c7e-43c8-bfbc-0b2647a8efad",
   "metadata": {},
   "outputs": [
    {
     "name": "stdout",
     "output_type": "stream",
     "text": [
      "Created file '/home/leburgel/git/TensorTrack/docs/src/examples/uniformMps/rightFixedPoint.m'.\n"
     ]
    }
   ],
   "source": [
    "%%file rightFixedPoint.m\n",
    "function r = rightFixedPoint(A)\n",
    "    % Find right fixed point.\n",
    "\n",
    "    % Parameters\n",
    "    % ----------\n",
    "    % A : :class:`Tensor` (D, d, D)\n",
    "    %     MPS tensor with 3 legs,\n",
    "    %     ordered left-bottom-right.\n",
    "\n",
    "    % Returns\n",
    "    % -------\n",
    "    % r : :class:`Tensor` (D, D)\n",
    "    %     right fixed point with 2 legs,\n",
    "    %     ordered top-bottom.\n",
    "\n",
    "    % Complexity\n",
    "    % ----------\n",
    "    % O(D^3) algorithm,\n",
    "    %     D^3 contraction for transfer matrix handle.\n",
    "    \n",
    "    % define handle for transfer matrix acting on right vector\n",
    "    handleERight = @(v) contract(A, [-1, 2, 1], conj(A), [-2, 2, 3], v, [1, 3], 'Rank', [1, 1]);\n",
    "    \n",
    "    % start from random initial guess for fixed point\n",
    "    r0 = A.randnc(A.dims([3, 3]), 'Rank', [1, 1]);\n",
    "    \n",
    "    % calculate fixed point\n",
    "    [r, ~] = eigsolve(handleERight, r0);\n",
    "    \n",
    "    % make right fixed point hermitian and positive semidefinite explicitly\n",
    "    r = r * trace(r) / abs(trace(r)); % remove possible phase, actually forgot why I had to do this\n",
    "    r = (r + r') / 2; % force hermitian\n",
    "    r = r * sign(trace(r)); % force positive semidefinite\n",
    "end"
   ]
  },
  {
   "cell_type": "code",
   "execution_count": 21,
   "id": "d86c05e9-c927-4a35-8c91-aac1fe59ad07",
   "metadata": {},
   "outputs": [
    {
     "name": "stdout",
     "output_type": "stream",
     "text": [
      "Created file '/home/leburgel/git/TensorTrack/docs/src/examples/uniformMps/fixedPoints.m'.\n"
     ]
    }
   ],
   "source": [
    "%%file fixedPoints.m\n",
    "function [l, r] = fixedPoints(A)\n",
    "    % Find normalized fixed points.\n",
    "    %\n",
    "    % Parameters\n",
    "    % ----------\n",
    "    % A : :class:`Tensor` (D, d, D)\n",
    "    %     MPS tensor with 3 legs,\n",
    "    %     ordered left-bottom-right.\n",
    "    %\n",
    "    % Returns\n",
    "    % -------\n",
    "    % l : :class:`Tensor` (D, D)\n",
    "    %     left fixed point with 2 legs,\n",
    "    %     ordered bottom-top.\n",
    "    % r : :class:`Tensor` (D, D)\n",
    "    %     right fixed point with 2 legs,\n",
    "    %     ordered top-bottom.\n",
    "    %\n",
    "    % Complexity\n",
    "    % ----------\n",
    "    % O(D^6) algorithm,\n",
    "    %     diagonalizing (D^2, D^2) matrix\n",
    "\n",
    "    % find fixed points\n",
    "    l = leftFixedPoint(A);\n",
    "    r = rightFixedPoint(A);\n",
    "    \n",
    "    % calculate trace and normalize\n",
    "    l = l / trace(l * r);\n",
    "end"
   ]
  },
  {
   "cell_type": "code",
   "execution_count": 22,
   "id": "16963523-d412-40ab-af26-92900349f259",
   "metadata": {},
   "outputs": [],
   "source": [
    "A = createMPS(D, d);\n",
    "A = normalizeMPS(A);\n",
    "[l, r] = fixedPoints(A);\n",
    "\n",
    "assert(isapprox(l, l', 'RelTol', relTol), 'left fixed point should be hermitian!')\n",
    "assert(isapprox(r, r', 'RelTol', relTol), 'right fixed point should be hermitian!')\n",
    "\n",
    "assert(isapprox(l, contract(A, [1, 2, -2], l, [3, 1], conj(A), [3, 2, -1]), 'RelTol', relTol), 'l should be a left fixed point!')\n",
    "assert(isapprox(r, contract(A, [-1, 2, 1], r, [1, 3], conj(A), [-2, 2, 3]), 'RelTol', relTol), 'r should be a right fixed point!')\n",
    "assert(isapprox(trace(l * r), 1, 'RelTol', relTol), 'Left and right fixed points should be trace normalized!') % TODO: fix once traces are a thing"
   ]
  },
  {
   "cell_type": "markdown",
   "id": "15694438-b2ce-432d-b26f-42ffe1576340",
   "metadata": {},
   "source": [
    "We can similarly improve both the efficiency and accuracy of the routines bringing a given MPS into its mixed canonical form. While plugging in the more efficient ways of finding the left and right fixed point into the above `mixedCanonical` routine would reduce its complexity to $O(D^3)$, this algorithm would still be suboptimal in terms of numerical accuracy. This arises from the fact that, while $l$ and $r$ are theoretically known to be positive hermitian matrices, at least one of them will nevertheless have small eigenvalues, say of order $\\eta$, if the MPS is supposed to provide a good approximation to an actual state. In practice, $l$ and $r$ are determined using an iterative eigensolver and will only be accurate up to a specified tolerance $\\epsilon$. Upon taking the 'square roots' $L$ and $R$, the numerical precision will then decrease to $\\text{min}(\\sqrt{\\epsilon}, \\epsilon/\\sqrt{\\eta})$. Furthermore, gauge transforming $A$ with $L$ or $R$ requires the potentially ill-conditioned inversions of $L$ and $R$, and will typically yield $A_L$ and $A_R$ which violate the orthonormalization condition in the same order $\\epsilon/\\sqrt{\\eta}$. We can circumvent both these probelems by resorting to so-called *single-layer algorithms*. These are algorithms that only work on the level of the MPS tensors in the ket layer, and never consider operations for which contractions with the bra layer are needed. We now demonstrate such a single-layer algorithm for finding canonical forms.\n",
    "\n",
    "Suppose we are given an MPS tensor $A$, then from the above discussion we know that bringing it into left canonical form means finding a left-orthonormal tensor $A_L$ and a matrix $L$ such that $L A=A_L L$. The idea is then to solve this equation iteratively, where in every iteration\n",
    "\n",
    "1. we start from a matrix $L^{i}$\n",
    "2. we construct the tensor $L^{i}A$\n",
    "3. we take a QR decomposition to obtain $A_L^{i+1} L^{i+1} = L^{i}A$, and\n",
    "4. we take $L^{i+1}$ to the next iteration\n",
    "\n",
    "The QR decomposition is represented diagrammatically as\n",
    "\n",
    "<center><img src=\"img/qrStep.svg\" alt=\"QR step\"></center>\n",
    "\n",
    "This iterative procedure is bound to converge to a fixed point for which $L^{(i+1)}=L^{(i)}=L$ and $A_L$ is left orthonormal by construction:\n",
    "\n",
    "<center><img src=\"img/qrConv.svg\" alt=\"QR convergence\"></center>\n",
    "\n",
    "A similar procedure can be used to find a right-orthonormal tensor $A_R$ and a matrix $R$ such that $A R = R A_R$. It is important to note that the convergence of this procedure relies on the fact that the QR decomposition is unique, which is not actually the case in general. However, it can be made unique by imposing that the diagonal elements of the triangular matrix $R$ must be positive. This extra condition is imposed by calling the `Tensor` factorization methods `leftorth` and `rightorth` with values `'qrpos'` and `'rqpos'` for the algorithm argument respectively."
   ]
  },
  {
   "cell_type": "code",
   "execution_count": 23,
   "id": "4593b3ff-f9c4-470d-ba37-219b0043e048",
   "metadata": {},
   "outputs": [
    {
     "name": "stdout",
     "output_type": "stream",
     "text": [
      "Created file '/home/leburgel/git/TensorTrack/docs/src/examples/uniformMps/rightOrthonormalize.m'.\n"
     ]
    }
   ],
   "source": [
    "%%file rightOrthonormalize.m\n",
    "function [R, Ar] = rightOrthonormalize(A, R0, tol, maxIter)\n",
    "    % Transform A to right-orthonormal gauge.\n",
    "    %\n",
    "    % Parameters\n",
    "    % ----------\n",
    "    % A : :class:`Tensor` (D, d, D)\n",
    "    %     MPS tensor with 3 legs,\n",
    "    %     ordered left-bottom-right.\n",
    "    % R0 : :class:`Tensor` (D, D), optional\n",
    "    %     Right gauge matrix,\n",
    "    %     initial guess.\n",
    "    % tol : float, optional\n",
    "    %     convergence criterium,\n",
    "    %     norm(R - Rnew) < tol.\n",
    "    % maxIter : int\n",
    "    %     maximum amount of iterations.\n",
    "    %\n",
    "    % Returns\n",
    "    % -------\n",
    "    % R : :class:`Tensor` (D, D)\n",
    "    %     right gauge with 2 legs,\n",
    "    %     ordered left-right.\n",
    "    % Ar : :class:`Tensor` (D, d, D)\n",
    "    %     MPS tensor with 3 legs,\n",
    "    %     ordered left-bottom-right,\n",
    "    %     right-orthonormal\n",
    "    \n",
    "    arguments\n",
    "        A\n",
    "        R0 = A.randnc(A.dims([3, 3]), 'Rank', [1, 1])\n",
    "        tol = 1e-14\n",
    "        maxIter = 1e5\n",
    "    end\n",
    "\n",
    "    % Normalize R0\n",
    "    R0 = R0 / norm(R0);\n",
    "\n",
    "    % Initialize loop\n",
    "    i = 1;\n",
    "    [R, Ar] = rightorth(contract(A, [-1, -2, 1], R0, [1, -3]), 1, [2, 3], 'rqpos');\n",
    "    R = R / norm(R);\n",
    "    convergence = distance(R, R0);\n",
    "\n",
    "    % Decompose A*R until R converges\n",
    "    while convergence > tol\n",
    "        % calculate AR and decompose\n",
    "        [Rnew, Ar] = rightorth(contract(A, [-1, -2, 1], R, [1, -3]), 1, [2, 3], 'rqpos');\n",
    "\n",
    "        % normalize new R\n",
    "        Rnew = Rnew / norm(Rnew);\n",
    "\n",
    "        % calculate convergence criterium\n",
    "        convergence = distance(Rnew, R);\n",
    "        R = Rnew;\n",
    "\n",
    "        % check if iterations exceeds maxIter\n",
    "        if i > maxIter\n",
    "            warning('Right-orthonormalization has not converged!')\n",
    "            break\n",
    "        end\n",
    "        i = i + 1;\n",
    "    end\n",
    "end"
   ]
  },
  {
   "cell_type": "code",
   "execution_count": 24,
   "id": "0838f7b2-d694-4dac-9643-55822c269f0c",
   "metadata": {},
   "outputs": [
    {
     "name": "stdout",
     "output_type": "stream",
     "text": [
      "Created file '/home/leburgel/git/TensorTrack/docs/src/examples/uniformMps/leftOrthonormalize.m'.\n"
     ]
    }
   ],
   "source": [
    "%%file leftOrthonormalize.m\n",
    "function [L, Al] = leftOrthonormalize(A, L0, tol, maxIter)\n",
    "    % Transform A to left-orthonormal gauge.\n",
    "    %\n",
    "    % Parameters\n",
    "    % ----------\n",
    "    % A : :class:`Tensor` (D, d, D)\n",
    "    %     MPS tensor with 3 legs,\n",
    "    %     ordered left-bottom-right.\n",
    "    % L0 : :class:`Tensor` (D, D), optional\n",
    "    %     Left gauge matrix,\n",
    "    %     initial guess.\n",
    "    % tol : float, optional\n",
    "    %     convergence criterium,\n",
    "    %     norm(R - Rnew) < tol.\n",
    "    % maxIter : int\n",
    "    %     maximum amount of iterations.\n",
    "    %\n",
    "    % Returns\n",
    "    % -------\n",
    "    % L : :class:`Tensor` (D, D)\n",
    "    %     left gauge with 2 legs,\n",
    "    %     ordered left-right.\n",
    "    % Al : :class:`Tensor` (D, d, D)\n",
    "    %     MPS tensor with 3 legs,\n",
    "    %     ordered left-bottom-right,\n",
    "    %     left-orthonormal\n",
    "\n",
    "    arguments\n",
    "        A\n",
    "        L0 = A.randnc(A.dims([1, 1]), 'Rank', [1, 1])\n",
    "        tol = 1e-14\n",
    "        maxIter = 1e5\n",
    "    end\n",
    "\n",
    "    % Normalize L0\n",
    "    L0 = L0 / norm(L0);\n",
    "\n",
    "    % Initialize loop\n",
    "    i = 1;\n",
    "    [Al, L] = leftorth(contract(L0, [-1, 1], A, [1, -2, -3]), [1, 2], 3, 'qrpos');\n",
    "    L = L / norm(L);\n",
    "    convergence = distance(L, L0);\n",
    "    \n",
    "    % Decompose L*A until L converges\n",
    "    while convergence > tol\n",
    "        % calculate LA and decompose\n",
    "        [Al, Lnew] = leftorth(contract(L, [-1, 1], A, [1, -2, -3]), [1, 2], 3, 'qrpos');\n",
    "\n",
    "        % normalize new L\n",
    "        Lnew = Lnew / norm(Lnew);\n",
    "\n",
    "        % calculate convergence criterium\n",
    "        convergence = distance(Lnew, L);\n",
    "        L = Lnew;\n",
    "\n",
    "        % check if iterations exceeds maxIter\n",
    "        if i > maxIter\n",
    "            warning('Left-orthonormalization has not converged!')\n",
    "            break\n",
    "        end\n",
    "        i = i + 1;\n",
    "    end\n",
    "end"
   ]
  },
  {
   "cell_type": "code",
   "execution_count": 25,
   "id": "c01b4ec1-eb01-46be-b625-caa607d495e0",
   "metadata": {},
   "outputs": [
    {
     "name": "stdout",
     "output_type": "stream",
     "text": [
      "Created file '/home/leburgel/git/TensorTrack/docs/src/examples/uniformMps/mixedCanonical.m'.\n"
     ]
    }
   ],
   "source": [
    "%%file mixedCanonical.m\n",
    "function [Al, Ar, C, Ac] = mixedCanonical(A, L0, R0, tol, maxIter)\n",
    "    % Bring MPS tensor into mixed gauge, such that -Al-C- = -C-Ar- = Ac.\n",
    "    %\n",
    "    % Parameters\n",
    "    % ----------\n",
    "    % A : :class:`Tensor` (D, d, D)\n",
    "    %     MPS tensor with 3 legs,\n",
    "    %     ordered left-bottom-right.\n",
    "    %\n",
    "    % Returns\n",
    "    % -------\n",
    "    % Al : :class:`Tensor` (D, d, D)\n",
    "    %     MPS tensor with 3 legs,\n",
    "    %     ordered left-bottom-right,\n",
    "    %     left orthonormal.\n",
    "    % Ac : :class:`Tensor` (D, d, D)\n",
    "    %     MPS tensor with 3 legs,\n",
    "    %     ordered left-bottom-right,\n",
    "    %     center gauge.\n",
    "    % Ar : :class:`Tensor` (D, d, D)\n",
    "    %     MPS tensor with 3 legs,\n",
    "    %     ordered left-bottom-right,\n",
    "    %     right orthonormal.\n",
    "    % C : :class:`Tensor` (D, D)\n",
    "    %     Center gauge with 2 legs,\n",
    "    %     ordered left-right,\n",
    "    %     diagonal.\n",
    "    %\n",
    "    % Complexity\n",
    "    % ----------\n",
    "    % O(D^3) algorithm.\n",
    "\n",
    "    arguments\n",
    "        A\n",
    "        L0 = A.randnc(A.dims([1, 1]), 'Rank', [1, 1])\n",
    "        R0 = A.randnc(A.dims([3, 3]), 'Rank', [1, 1])\n",
    "        tol = 1e-14\n",
    "        maxIter = 1e5\n",
    "    end\n",
    "\n",
    "    % Compute left and right orthonormal forms\n",
    "    [L, Al] = leftOrthonormalize(A, L0, tol, maxIter);\n",
    "    [R, Ar] = rightOrthonormalize(A, R0, tol, maxIter);\n",
    "\n",
    "    % center matrix C is matrix multiplication of L and R\n",
    "    C = L * R;\n",
    "\n",
    "    % singular value decomposition to diagonalize C\n",
    "    [U, S, V] = tsvd(C, 1, 2);\n",
    "\n",
    "    % absorb corresponding unitaries in Al and Ar\n",
    "    Al = contract(U', [-1, 1], Al, [1, -2, 2], U, [2, -3], 'Rank', Al.rank);\n",
    "    Ar = contract(V, [-1, 1], Ar, [1, -2, 2], V', [2, -3], 'Rank', Ar.rank);\n",
    "\n",
    "    % normalize center matrix\n",
    "    C = S / norm(S);\n",
    "\n",
    "    % compute center MPS tensor\n",
    "    Ac = contract(Al, [-1, -2, 1], C, [1, -3], 'Rank', Al.rank);\n",
    "end"
   ]
  },
  {
   "cell_type": "code",
   "execution_count": 26,
   "id": "c697d27f-eb88-4dbb-bb58-22d5713262ef",
   "metadata": {
    "tags": []
   },
   "outputs": [],
   "source": [
    "% check that gauging is still correct\n",
    "[Al, Ar, C, Ac] = mixedCanonical(A);\n",
    "\n",
    "assert(isapprox(contract(Ar, [-1, 1, 2], conj(Ar), [-2, 1, 2]), C.eye(C.codomain, C.domain), 'RelTol', relTol), 'Ar not in right-orthonormal form')\n",
    "assert(isapprox(contract(Al, [1, 2, -2], conj(Al), [1, 2, -1]), C.eye(C.codomain, C.domain), 'RelTol', relTol), 'Al not in left-orthonormal form')\n",
    "LHS = contract(Al, [-1, -2, 1], C, [1, -3]);\n",
    "RHS = contract(C, [-1, 1], Ar, [1, -2, -3]);\n",
    "assert(isapprox(LHS, RHS, 'RelTol', relTol) && isapprox(RHS, Ac, 'RelTol', relTol), 'Mixed gauge condition not satisfied!')"
   ]
  },
  {
   "cell_type": "markdown",
   "id": "84bb722f-6aa6-44e9-a048-ea9b060b1ed2",
   "metadata": {},
   "source": [
    "## 5 Computing expectation values \n",
    "Now that we have seen the different ways to parametrize a given MPS, namely the uniform gauge and the mixed gauge, we wish to use these to compute expectation values of an extensive operator:\n",
    "$$ O = \\frac{1}{\\mathbb{Z}} \\sum_{n \\in \\mathbb{Z}} O_n. $$\n",
    "\n",
    "If we assume that each $O_n$ acts on a single site and we are working with a properly normalized MPS, translation invariance dictates that the expectation value of $O$ is given by the contraction\n",
    "\n",
    "<center><img src=\"img/expVal.svg\" alt=\"Expectation value\"></center>\n",
    "\n",
    "In the uniform gauge, we can use the fixed points of the transfer matrix to contract everything to the left and to the right of the operator, such that we are left with the contraction\n",
    "\n",
    "<center><img src=\"img/expVal2.svg\" alt=\"Expectation value 2\"></center>\n",
    "\n",
    "In the mixed gauge, we can locate the center site where the operator is acting, and then contract everything to the left and right to the identity to arrive at the particularly simple expression\n",
    "\n",
    "<center><img src=\"img/expVal3.svg\" alt=\"Expectation value 3\"></center>"
   ]
  },
  {
   "cell_type": "code",
   "execution_count": 27,
   "id": "afdd32d5-3cd4-463f-9a9e-cc04b06a99c9",
   "metadata": {},
   "outputs": [
    {
     "name": "stdout",
     "output_type": "stream",
     "text": [
      "Created file '/home/leburgel/git/TensorTrack/docs/src/examples/uniformMps/expVal1Uniform.m'.\n"
     ]
    }
   ],
   "source": [
    "%%file expVal1Uniform.m\n",
    "function o = expVal1Uniform(O, A, l, r)\n",
    "    % Calculate the expectation value of a 1-site operator in uniform gauge.\n",
    "\n",
    "    % Parameters\n",
    "    % ----------\n",
    "    % O : :class:`Tensor` (d, d)\n",
    "    %     single-site operator.\n",
    "    % A : :class:`Tensor` (D, d, D)\n",
    "    %     MPS tensor with 3 legs,\n",
    "    %     ordered left-bottom-right.\n",
    "    % l : :class:`Tensor` (D, D), optional\n",
    "    %     left fixed point of transfermatrix,\n",
    "    %     normalized.\n",
    "    % r : :class:`Tensor` (D, D), optional\n",
    "    %     right fixed point of transfermatrix,\n",
    "    %     normalized.\n",
    "\n",
    "    % Returns\n",
    "    % -------\n",
    "    % o : complex float\n",
    "    %     expectation value of O.\n",
    "    \n",
    "    arguments\n",
    "        O\n",
    "        A\n",
    "        l = []\n",
    "        r = []\n",
    "    end\n",
    "\n",
    "    % calculate fixed points if not given\n",
    "    if isempty(l) || isempty(r)\n",
    "        [l, r] = fixedPoints(A);\n",
    "    end\n",
    "\n",
    "    % contract expectation value network\n",
    "    o = contract(l, [4, 1], r, [3, 6], A, [1, 2, 3], conj(A), [4, 5, 6], O, [2, 5]);\n",
    "end"
   ]
  },
  {
   "cell_type": "code",
   "execution_count": 28,
   "id": "ebc46431-810b-4aa6-9c00-3027c9d29a6b",
   "metadata": {},
   "outputs": [
    {
     "name": "stdout",
     "output_type": "stream",
     "text": [
      "Created file '/home/leburgel/git/TensorTrack/docs/src/examples/uniformMps/expVal1Mixed.m'.\n"
     ]
    }
   ],
   "source": [
    "%%file expVal1Mixed.m\n",
    "function o = expVal1Mixed(O, Ac)\n",
    "    % Calculate the expectation value of a 1-site operator in mixed gauge.\n",
    "    %\n",
    "    % Parameters\n",
    "    % ----------\n",
    "    % O : :class:`Tensor` (d, d)\n",
    "    %     single-site operator.\n",
    "    % Ac : :class:`Tensor` (D, d, D)\n",
    "    %     MPS tensor with 3 legs,\n",
    "    %     ordered left-bottom-right,\n",
    "    %     center gauged.\n",
    "    %\n",
    "    % Returns\n",
    "    % -------\n",
    "    % o : complex float\n",
    "    %     expectation value of O.\n",
    "\n",
    "    % contract expectation value network\n",
    "    o = contract(Ac, [2, 1, 3], conj(Ac), [2, 4, 3], O, [1, 4]);\n",
    "end"
   ]
  },
  {
   "cell_type": "code",
   "execution_count": 29,
   "id": "e51cbb59-4df2-4206-9c49-5e5c9d1c4c9f",
   "metadata": {},
   "outputs": [],
   "source": [
    "O = Tensor.randnc([d, d]);\n",
    "A = createMPS(D, d);\n",
    "A = normalizeMPS(A);\n",
    "[Al, Ar, C, Ac] = mixedCanonical(A);\n",
    "expVal = expVal1Uniform(O, A);\n",
    "expValMix = expVal1Mixed(O, Ac);\n",
    "assert(isapprox(expVal, expValMix, 'RelTol', relTol), 'different gauges give different values?')"
   ]
  },
  {
   "cell_type": "markdown",
   "id": "77a55b31-d9eb-4a5f-a198-92277186f122",
   "metadata": {},
   "source": [
    "This procedure can be readily generalized to operators that act on multiple sites. In particular, a two-site operator such as a Hamiltonian term $h$ can be evaluated as\n",
    "\n",
    "<center><img src=\"img/expValHam.svg\" alt=\"Expectation value Hamiltonian\"></center>"
   ]
  },
  {
   "cell_type": "code",
   "execution_count": 30,
   "id": "b885433f-df40-4612-b2b8-3a06a46fc1c1",
   "metadata": {},
   "outputs": [
    {
     "name": "stdout",
     "output_type": "stream",
     "text": [
      "Created file '/home/leburgel/git/TensorTrack/docs/src/examples/uniformMps/expVal2Uniform.m'.\n"
     ]
    }
   ],
   "source": [
    "%%file expVal2Uniform.m\n",
    "function o = expVal2Uniform(O, A, l, r)\n",
    "    % Calculate the expectation value of a 2-site operator in uniform gauge.\n",
    "    %\n",
    "    % Parameters\n",
    "    % ----------\n",
    "    % O : :class:`Tensor` (d, d, d, d)\n",
    "    %     two-site operator,\n",
    "    %     ordered topLeft-topRight-bottomLeft-bottomRight.\n",
    "    % A : :class:`Tensor` (D, d, D)\n",
    "    %     MPS tensor with 3 legs,\n",
    "    %     ordered left-bottom-right.\n",
    "    % l : :class:`Tensor` (D, D), optional\n",
    "    %     left fixed point of transfermatrix,\n",
    "    %     normalized.\n",
    "    % r : :class:`Tensor` (D, D), optional\n",
    "    %     right fixed point of transfermatrix,\n",
    "    %     normalized.\n",
    "    %\n",
    "    % Returns\n",
    "    % -------\n",
    "    % o : complex float\n",
    "    %     expectation value of O.\n",
    "    \n",
    "    arguments\n",
    "        O\n",
    "        A\n",
    "        l = []\n",
    "        r = []\n",
    "    end\n",
    "    \n",
    "    % calculate fixed points if not given\n",
    "    if isempty(l) || isempty(r)\n",
    "        [l, r] = fixedPoints(A);\n",
    "    end\n",
    "\n",
    "    % contract expectation value network\n",
    "    o = contract(l, [6, 1], r, [5, 10], A, [1, 2, 3], A, [3, 4, 5], conj(A), [6, 7, 8], conj(A), [8, 9, 10], O, [2, 4, 7, 9]);\n",
    "end"
   ]
  },
  {
   "cell_type": "code",
   "execution_count": 31,
   "id": "5bd59f0b-27d0-41e1-bc50-a85e6eabc4d8",
   "metadata": {},
   "outputs": [
    {
     "name": "stdout",
     "output_type": "stream",
     "text": [
      "Created file '/home/leburgel/git/TensorTrack/docs/src/examples/uniformMps/expVal2Mixed.m'.\n"
     ]
    }
   ],
   "source": [
    "%%file expVal2Mixed.m\n",
    "function o = expVal2Mixed(O, Ac, Ar)\n",
    "    % Calculate the expectation value of a 2-site operator in mixed gauge.\n",
    "\n",
    "    % Parameters\n",
    "    % ----------\n",
    "    % O : :class:`Tensor` (d, d, d, d)\n",
    "    %     two-site operator,\n",
    "    %     ordered topLeft-topRight-bottomLeft-bottomRight.\n",
    "    % Ac : :class:`Tensor` (D, d, D)\n",
    "    %     MPS tensor with 3 legs,\n",
    "    %     ordered left-bottom-right,\n",
    "    %     center gauged.\n",
    "    % Ar : :class:`Tensor` (D, d, D)\n",
    "    %     MPS tensor with 3 legs,\n",
    "    %     ordered left-bottom-right,\n",
    "    %     right gauged.\n",
    "\n",
    "    % Returns\n",
    "    % -------\n",
    "    % o : complex float\n",
    "    %     expectation value of O.\n",
    "\n",
    "    % contract expectation value network\n",
    "    o = contract(Ac, [4, 2, 1], Ar, [1, 3, 6], conj(Ac), [4, 5, 8], conj(Ar), [8, 7, 6], O, [2, 3, 5, 7]);\n",
    "end"
   ]
  },
  {
   "cell_type": "code",
   "execution_count": 32,
   "id": "3b195a09-58c6-4db4-a3c8-85e17283fe0c",
   "metadata": {},
   "outputs": [],
   "source": [
    "O2 = Tensor.randnc([d, d, d, d]);\n",
    "\n",
    "expVal = expVal2Uniform(O2, A);\n",
    "expValGauge = expVal2Mixed(O2, Ac, Ar);\n",
    "expValGauge2 = expVal2Mixed(O2, Al, Ac);\n",
    "\n",
    "diff1 = abs(expVal - expValGauge);\n",
    "diff2 = abs(expVal - expValGauge2);\n",
    "assert(diff1 < relTol && diff2 < relTol, 'different gauges give different values?')"
   ]
  },
  {
   "cell_type": "code",
   "execution_count": null,
   "id": "a80e078b-b63d-4858-ac28-c201955933c2",
   "metadata": {},
   "outputs": [],
   "source": []
  }
 ],
 "metadata": {
  "kernelspec": {
   "display_name": "Matlab",
   "language": "matlab",
   "name": "matlab"
  },
  "language_info": {
   "codemirror_mode": "octave",
   "file_extension": ".m",
   "help_links": [
    {
     "text": "MetaKernel Magics",
     "url": "https://metakernel.readthedocs.io/en/latest/source/README.html"
    }
   ],
   "mimetype": "text/x-octave",
   "name": "matlab",
   "version": "0.17.1"
  }
 },
 "nbformat": 4,
 "nbformat_minor": 5
}
